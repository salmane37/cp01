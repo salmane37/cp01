{
 "cells": [
  {
   "cell_type": "code",
   "execution_count": 9,
   "id": "0b0dae7c",
   "metadata": {},
   "outputs": [
    {
     "name": "stdout",
     "output_type": "stream",
     "text": [
      "Last name and First name : Fida salmane\n"
     ]
    }
   ],
   "source": [
    "first_name = 'salmane'\n",
    "last_name = 'Fida'\n",
    "print('Last name and First name :', last_name + \" \"+ first_name) "
   ]
  },
  {
   "cell_type": "code",
   "execution_count": 12,
   "id": "1632769e",
   "metadata": {},
   "outputs": [
    {
     "name": "stdout",
     "output_type": "stream",
     "text": [
      "First name: Salmane\n",
      "Last name: Fida\n",
      "Last name and First name : Fida Salmane\n"
     ]
    }
   ],
   "source": [
    "first_name = input('First name: ')\n",
    "last_name = input('Last name: ')\n",
    "print('Last name and First name :', last_name + \" \"+ first_name) "
   ]
  },
  {
   "cell_type": "code",
   "execution_count": 17,
   "id": "e22faa65",
   "metadata": {},
   "outputs": [
    {
     "name": "stdout",
     "output_type": "stream",
     "text": [
      "5\n",
      "55\n",
      "555\n",
      "615\n",
      "615\n"
     ]
    }
   ],
   "source": [
    "n = 5\n",
    "s = 0\n",
    "for i in range(3):\n",
    "    num = str(n)*(i+1)\n",
    "    print(num)\n",
    "    s = s + int(num)\n",
    "print(s)\n",
    "print(5 + 55 + 555) #works everytime\n",
    "\n",
    "    "
   ]
  },
  {
   "cell_type": "code",
   "execution_count": 29,
   "id": "4cba75f1",
   "metadata": {},
   "outputs": [
    {
     "name": "stdout",
     "output_type": "stream",
     "text": [
      "number: 8\n",
      "the number is even\n"
     ]
    }
   ],
   "source": [
    "n = input('number: ')\n",
    "n = int(n)\n",
    "if n % 2 == 0:\n",
    "    print('the number is even')\n",
    "else:\n",
    "    print('the number is odd')\n",
    "    "
   ]
  },
  {
   "cell_type": "code",
   "execution_count": 43,
   "id": "07266bbe",
   "metadata": {},
   "outputs": [
    {
     "name": "stdout",
     "output_type": "stream",
     "text": [
      "2002, 2009, 2016, 2023, 2037, 2044, 2051, 2058, 2072, 2079, 2086, 2093, 2107, 2114, 2121, 2128, 2142, 2149, 2156, 2163, 2177, 2184, 2191, 2198, 2212, 2219, 2226, 2233, 2247, 2254, 2261, 2268, 2282, 2289, 2296, 2303, 2317, 2324, 2331, 2338, 2352, 2359, 2366, 2373, 2387, 2394, 2401, 2408, 2422, 2429, 2436, 2443, 2457, 2464, 2471, 2478, 2492, 2499, 2506, 2513, 2527, 2534, 2541, 2548, 2562, 2569, 2576, 2583, 2597, 2604, 2611, 2618, 2632, 2639, 2646, 2653, 2667, 2674, 2681, 2688, 2702, 2709, 2716, 2723, 2737, 2744, 2751, 2758, 2772, 2779, 2786, 2793, 2807, 2814, 2821, 2828, 2842, 2849, 2856, 2863, 2877, 2884, 2891, 2898, 2912, 2919, 2926, 2933, 2947, 2954, 2961, 2968, 2982, 2989, 2996, 3003, 3017, 3024, 3031, 3038, 3052, 3059, 3066, 3073, 3087, 3094, 3101, 3108, 3122, 3129, 3136, 3143, 3157, 3164, 3171, 3178, 3192, 3199, "
     ]
    }
   ],
   "source": [
    "for n in range(2000, 3201):\n",
    "    if n%7 == 0 and n%5 != 0:\n",
    "        print(n, end=', ')\n",
    "        "
   ]
  },
  {
   "cell_type": "code",
   "execution_count": 58,
   "id": "36ca64bd",
   "metadata": {},
   "outputs": [
    {
     "name": "stdout",
     "output_type": "stream",
     "text": [
      "8 ! = 40320\n"
     ]
    }
   ],
   "source": [
    "n = 8\n",
    "m = 1\n",
    "for i in range(1,n+1):\n",
    "    m = m*i\n",
    "print (n, '! =', m)"
   ]
  },
  {
   "cell_type": "code",
   "execution_count": 59,
   "id": "9f140e4b",
   "metadata": {},
   "outputs": [
    {
     "data": {
      "text/plain": [
       "5"
      ]
     },
     "execution_count": 59,
     "metadata": {},
     "output_type": "execute_result"
    }
   ],
   "source": [
    "len(str(m))"
   ]
  },
  {
   "cell_type": "code",
   "execution_count": 8,
   "id": "8fb7daf9",
   "metadata": {},
   "outputs": [
    {
     "name": "stdout",
     "output_type": "stream",
     "text": [
      "hlota\n"
     ]
    }
   ],
   "source": [
    "string = 'hello team'\n",
    "new_string = ''\n",
    "for i in range(0, len(string), 2):\n",
    "    new_string += string[i]\n",
    "print(new_string)        \n",
    "    \n",
    "    "
   ]
  },
  {
   "cell_type": "code",
   "execution_count": 2,
   "id": "5ba6c1f0",
   "metadata": {},
   "outputs": [
    {
     "name": "stdout",
     "output_type": "stream",
     "text": [
      "135.0\n"
     ]
    }
   ],
   "source": [
    "price = 150\n",
    "if price >= 500:\n",
    "    price = (1-0.5)*price\n",
    "elif price >= 200:\n",
    "    price = price - price*0.3\n",
    "else:\n",
    "    price *= (1-0.1)\n",
    "print(price)    "
   ]
  },
  {
   "cell_type": "code",
   "execution_count": null,
   "id": "8c780083",
   "metadata": {},
   "outputs": [],
   "source": []
  }
 ],
 "metadata": {
  "kernelspec": {
   "display_name": "Python 3 (ipykernel)",
   "language": "python",
   "name": "python3"
  },
  "language_info": {
   "codemirror_mode": {
    "name": "ipython",
    "version": 3
   },
   "file_extension": ".py",
   "mimetype": "text/x-python",
   "name": "python",
   "nbconvert_exporter": "python",
   "pygments_lexer": "ipython3",
   "version": "3.9.12"
  }
 },
 "nbformat": 4,
 "nbformat_minor": 5
}
